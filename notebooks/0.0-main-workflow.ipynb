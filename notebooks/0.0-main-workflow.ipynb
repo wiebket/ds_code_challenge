{
 "cells": [
  {
   "metadata": {},
   "cell_type": "markdown",
   "source": [
    "# Main Data Science Workflow\n",
    "\n",
    "This notebook demonstrates the complete pipeline from data loading to model evaluation.\n",
    "\n",
    "**Contents:**\n",
    "1. Setup and Configuration\n",
    "2. Data Loading from S3\n",
    "3. Data Transformation\n",
    "\n",
    "**Last Updated:** 2025-10-19\n",
    "**Author:** Wiebke Hutiri"
   ],
   "id": "885a16c2e83e1c7b"
  },
  {
   "metadata": {
    "ExecuteTime": {
     "end_time": "2025-10-19T21:46:27.850400Z",
     "start_time": "2025-10-19T21:46:27.782509Z"
    }
   },
   "cell_type": "code",
   "source": [
    "# Notebook Configuration\n",
    "\n",
    "%load_ext autoreload\n",
    "%autoreload 2\n",
    "\n",
    "import warnings\n",
    "warnings.filterwarnings('ignore')"
   ],
   "id": "e20b14d4aa4e3f7f",
   "outputs": [],
   "execution_count": 1
  },
  {
   "metadata": {},
   "cell_type": "markdown",
   "source": "## Setup and Configuration",
   "id": "238b8a406f5fe9fe"
  },
  {
   "cell_type": "code",
   "id": "initial_id",
   "metadata": {
    "collapsed": true,
    "ExecuteTime": {
     "end_time": "2025-10-19T21:46:29.602976Z",
     "start_time": "2025-10-19T21:46:29.065700Z"
    }
   },
   "source": [
    "from ds_code_challenge.data import download_from_s3, load_data, spatial_join\n",
    "from ds_code_challenge.config import Config\n",
    "\n",
    "Config.setup_directories()"
   ],
   "outputs": [
    {
     "name": "stdout",
     "output_type": "stream",
     "text": [
      "\u001B[32m2025-10-19 23:46:29.099\u001B[0m | \u001B[1mINFO    \u001B[0m | \u001B[36mds_code_challenge.config\u001B[0m:\u001B[36mConfig\u001B[0m:\u001B[36m26\u001B[0m - \u001B[1mPROJ_ROOT path is: /Users/wiebke/PycharmProjects/ds_code_challenge\u001B[0m\n"
     ]
    }
   ],
   "execution_count": 2
  },
  {
   "metadata": {},
   "cell_type": "markdown",
   "source": "## Data Loading from s3",
   "id": "3fa2ba0d5199ae40"
  },
  {
   "metadata": {},
   "cell_type": "code",
   "source": [
    "s3_dataset_keys = ['sr.csv.gz', 'sr_hex.csv.gz', 'sr_hex_truncated.csv', 'city-hex-polygons-8.geojson', 'city-hex-polygons-8-10.geojson', 'images/swimming-pool/yes', 'images/swimming-pool/no']\n",
    "\n",
    "for key in s3_dataset_keys:\n",
    "    download_from_s3(key, 'raw')"
   ],
   "id": "5ca5d56b4a304ed6",
   "outputs": [],
   "execution_count": null
  },
  {
   "metadata": {
    "ExecuteTime": {
     "end_time": "2025-10-19T21:46:35.065741Z",
     "start_time": "2025-10-19T21:46:32.625990Z"
    }
   },
   "cell_type": "code",
   "source": [
    "sr_df = load_data('sr.csv.gz')\n",
    "hex8_df = load_data('city-hex-polygons-8.geojson')\n",
    "sr_hex_trun_df = load_data('sr_hex_truncated.csv')"
   ],
   "id": "196abf5a091a5955",
   "outputs": [],
   "execution_count": 3
  },
  {
   "metadata": {},
   "cell_type": "markdown",
   "source": "## Data Transformation",
   "id": "f746890d47efbe27"
  },
  {
   "metadata": {
    "ExecuteTime": {
     "end_time": "2025-10-19T21:46:41.559628Z",
     "start_time": "2025-10-19T21:46:35.081454Z"
    }
   },
   "cell_type": "code",
   "source": "sr_hex_df = spatial_join(sr_df, hex8_df)",
   "id": "610e97bee7011e7",
   "outputs": [
    {
     "name": "stderr",
     "output_type": "stream",
     "text": [
      "INFO:ds_code_challenge.data.transform: Join completed in 0.47 seconds.\n",
      "WARNING:ds_code_challenge.data.transform: Failed to join 212367 out of 941634 rows (22.55%).\n"
     ]
    }
   ],
   "execution_count": 4
  },
  {
   "metadata": {
    "ExecuteTime": {
     "end_time": "2025-10-19T21:46:52.320974Z",
     "start_time": "2025-10-19T21:46:52.289146Z"
    }
   },
   "cell_type": "code",
   "source": "sr_hex_df.columns",
   "id": "611ca5f333ddcf49",
   "outputs": [
    {
     "data": {
      "text/plain": [
       "Index(['notification_number', 'reference_number', 'creation_timestamp',\n",
       "       'completion_timestamp', 'directorate', 'department', 'branch',\n",
       "       'section', 'code_group', 'code', 'cause_code_group', 'cause_code',\n",
       "       'official_suburb', 'latitude', 'longitude', 'h3_level8_index'],\n",
       "      dtype='object')"
      ]
     },
     "execution_count": 6,
     "metadata": {},
     "output_type": "execute_result"
    }
   ],
   "execution_count": 6
  },
  {
   "metadata": {},
   "cell_type": "code",
   "outputs": [],
   "execution_count": null,
   "source": "",
   "id": "28e85cac4093006f"
  }
 ],
 "metadata": {
  "kernelspec": {
   "display_name": "Python 3",
   "language": "python",
   "name": "python3"
  },
  "language_info": {
   "codemirror_mode": {
    "name": "ipython",
    "version": 2
   },
   "file_extension": ".py",
   "mimetype": "text/x-python",
   "name": "python",
   "nbconvert_exporter": "python",
   "pygments_lexer": "ipython2",
   "version": "2.7.6"
  }
 },
 "nbformat": 4,
 "nbformat_minor": 5
}
