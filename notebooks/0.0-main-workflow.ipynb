{
 "cells": [
  {
   "metadata": {},
   "cell_type": "markdown",
   "source": [
    "# Main Data Science Workflow\n",
    "\n",
    "This notebook demonstrates the complete pipeline from data loading to model evaluation.\n",
    "\n",
    "**Contents:**\n",
    "1. Setup and Configuration\n",
    "2. Data Loading from S3\n",
    "3. Data Transformation\n",
    "\n",
    "**Last Updated:** 2025-10-19\n",
    "**Author:** Wiebke Hutiri"
   ],
   "id": "885a16c2e83e1c7b"
  },
  {
   "metadata": {
    "ExecuteTime": {
     "end_time": "2025-10-19T21:15:47.509457Z",
     "start_time": "2025-10-19T21:15:47.433209Z"
    }
   },
   "cell_type": "code",
   "source": [
    "# Notebook Configuration\n",
    "\n",
    "%load_ext autoreload\n",
    "%autoreload 2\n",
    "\n",
    "import warnings\n",
    "warnings.filterwarnings('ignore')"
   ],
   "id": "e20b14d4aa4e3f7f",
   "outputs": [],
   "execution_count": 1
  },
  {
   "metadata": {},
   "cell_type": "markdown",
   "source": "## Setup and Configuration",
   "id": "238b8a406f5fe9fe"
  },
  {
   "cell_type": "code",
   "id": "initial_id",
   "metadata": {
    "collapsed": true,
    "ExecuteTime": {
     "end_time": "2025-10-19T21:15:57.079574Z",
     "start_time": "2025-10-19T21:15:56.526268Z"
    }
   },
   "source": [
    "from ds_code_challenge.data import download_from_s3, load_data, spatial_join\n",
    "from ds_code_challenge.config import Config\n",
    "\n",
    "Config.setup_directories()"
   ],
   "outputs": [
    {
     "name": "stdout",
     "output_type": "stream",
     "text": [
      "\u001B[32m2025-10-19 23:15:56.572\u001B[0m | \u001B[1mINFO    \u001B[0m | \u001B[36mds_code_challenge.config\u001B[0m:\u001B[36mConfig\u001B[0m:\u001B[36m26\u001B[0m - \u001B[1mPROJ_ROOT path is: /Users/wiebke/PycharmProjects/ds_code_challenge\u001B[0m\n"
     ]
    }
   ],
   "execution_count": 3
  },
  {
   "metadata": {},
   "cell_type": "markdown",
   "source": "## Data Loading from s3",
   "id": "3fa2ba0d5199ae40"
  },
  {
   "metadata": {},
   "cell_type": "code",
   "source": [
    "s3_dataset_keys = ['sr.csv.gz', 'sr_hex.csv.gz', 'sr_hex_truncated.csv', 'city-hex-polygons-8.geojson', 'city-hex-polygons-8-10.geojson', 'images/swimming-pool/yes', 'images/swimming-pool/no']\n",
    "\n",
    "for key in s3_dataset_keys:\n",
    "    download_from_s3(key, 'raw')"
   ],
   "id": "5ca5d56b4a304ed6",
   "outputs": [],
   "execution_count": null
  },
  {
   "metadata": {
    "ExecuteTime": {
     "end_time": "2025-10-19T21:16:01.594941Z",
     "start_time": "2025-10-19T21:15:59.630844Z"
    }
   },
   "cell_type": "code",
   "source": [
    "sr_df = load_data('sr.csv.gz')\n",
    "hex8_df = load_data('city-hex-polygons-8.geojson')\n",
    "sr_hex_trun_df = load_data('sr_hex_truncated.csv')"
   ],
   "id": "196abf5a091a5955",
   "outputs": [],
   "execution_count": 4
  },
  {
   "metadata": {},
   "cell_type": "markdown",
   "source": "## Data Transformation",
   "id": "f746890d47efbe27"
  },
  {
   "metadata": {
    "ExecuteTime": {
     "end_time": "2025-10-19T21:16:40.069675Z",
     "start_time": "2025-10-19T21:16:33.188912Z"
    }
   },
   "cell_type": "code",
   "source": "sr_hex_df = spatial_join(sr_df, hex8_df)",
   "id": "610e97bee7011e7",
   "outputs": [],
   "execution_count": 6
  },
  {
   "metadata": {
    "ExecuteTime": {
     "end_time": "2025-10-19T21:16:47.041664Z",
     "start_time": "2025-10-19T21:16:46.992188Z"
    }
   },
   "cell_type": "code",
   "source": "sr_hex_df.head()",
   "id": "f3eedca9d3fd83bb",
   "outputs": [
    {
     "data": {
      "text/plain": [
       "   notification_number  reference_number         creation_timestamp  \\\n",
       "0            400583534      9.109492e+09  2020-10-07 06:55:18+02:00   \n",
       "1            400555043      9.108995e+09  2020-07-09 16:08:13+02:00   \n",
       "2            400589145      9.109614e+09  2020-10-27 10:21:59+02:00   \n",
       "3            400538915      9.108601e+09  2020-03-19 06:36:06+02:00   \n",
       "4            400568554               NaN  2020-08-25 09:48:42+02:00   \n",
       "\n",
       "        completion_timestamp     directorate                       department  \\\n",
       "0  2020-10-08 15:36:35+02:00  URBAN MOBILITY  Roads Infrastructure Management   \n",
       "1  2020-07-14 14:27:01+02:00  URBAN MOBILITY  Roads Infrastructure Management   \n",
       "2  2020-10-28 17:48:15+02:00  URBAN MOBILITY  Roads Infrastructure Management   \n",
       "3  2021-03-29 20:34:19+02:00  URBAN MOBILITY  Roads Infrastructure Management   \n",
       "4  2020-08-31 08:41:13+02:00  URBAN MOBILITY  Roads Infrastructure Management   \n",
       "\n",
       "             branch                   section                    code_group  \\\n",
       "0  RIM Area Central      District: Blaauwberg  TD Customer complaint groups   \n",
       "1     RIM Area East  District : Somerset West  TD Customer complaint groups   \n",
       "2     RIM Area East  District : Somerset West  TD Customer complaint groups   \n",
       "3    RIM Area North      District : Bellville  TD Customer complaint groups   \n",
       "4    RIM Area South        District : Athlone  TD Customer complaint groups   \n",
       "\n",
       "                                     code cause_code_group         cause_code  \\\n",
       "0  Pothole&Defect Road Foot Bic Way/Kerbs       Road (RCL)      Wear and tear   \n",
       "1                Manhole Cover/Gully Grid       Road (RCL)          Vandalism   \n",
       "2                Manhole Cover/Gully Grid       Road (RCL)          Vandalism   \n",
       "3              Paint Markings Lines&Signs    Road Markings      Wear and tear   \n",
       "4  Pothole&Defect Road Foot Bic Way/Kerbs       Road (RCL)  Surfacing failure   \n",
       "\n",
       "    official_suburb   latitude  longitude                    geometry  \\\n",
       "0  MONTAGUE GARDENS -33.872839  18.522488  POINT (18.52249 -33.87284)   \n",
       "1     SOMERSET WEST -34.078916  18.848940  POINT (18.84894 -34.07892)   \n",
       "2            STRAND -34.102242  18.821116  POINT (18.82112 -34.10224)   \n",
       "3        RAVENSMEAD -33.920019  18.607209  POINT (18.60721 -33.92002)   \n",
       "4         CLAREMONT -33.987400  18.453760   POINT (18.45376 -33.9874)   \n",
       "\n",
       "   index_right  h3_level8_index  centroid_lat  centroid_lon  \n",
       "0       1047.0  88ad360225fffff    -33.871121     18.524125  \n",
       "1       3055.0  88ad36d5e1fffff    -34.080426     18.851688  \n",
       "2       2946.0  88ad36d437fffff    -34.104934     18.820143  \n",
       "3       1247.0  88ad361133fffff    -33.920536     18.607682  \n",
       "4       2530.0  88ad361709fffff    -33.983538     18.451570  "
      ],
      "text/html": [
       "<div>\n",
       "<style scoped>\n",
       "    .dataframe tbody tr th:only-of-type {\n",
       "        vertical-align: middle;\n",
       "    }\n",
       "\n",
       "    .dataframe tbody tr th {\n",
       "        vertical-align: top;\n",
       "    }\n",
       "\n",
       "    .dataframe thead th {\n",
       "        text-align: right;\n",
       "    }\n",
       "</style>\n",
       "<table border=\"1\" class=\"dataframe\">\n",
       "  <thead>\n",
       "    <tr style=\"text-align: right;\">\n",
       "      <th></th>\n",
       "      <th>notification_number</th>\n",
       "      <th>reference_number</th>\n",
       "      <th>creation_timestamp</th>\n",
       "      <th>completion_timestamp</th>\n",
       "      <th>directorate</th>\n",
       "      <th>department</th>\n",
       "      <th>branch</th>\n",
       "      <th>section</th>\n",
       "      <th>code_group</th>\n",
       "      <th>code</th>\n",
       "      <th>cause_code_group</th>\n",
       "      <th>cause_code</th>\n",
       "      <th>official_suburb</th>\n",
       "      <th>latitude</th>\n",
       "      <th>longitude</th>\n",
       "      <th>geometry</th>\n",
       "      <th>index_right</th>\n",
       "      <th>h3_level8_index</th>\n",
       "      <th>centroid_lat</th>\n",
       "      <th>centroid_lon</th>\n",
       "    </tr>\n",
       "  </thead>\n",
       "  <tbody>\n",
       "    <tr>\n",
       "      <th>0</th>\n",
       "      <td>400583534</td>\n",
       "      <td>9.109492e+09</td>\n",
       "      <td>2020-10-07 06:55:18+02:00</td>\n",
       "      <td>2020-10-08 15:36:35+02:00</td>\n",
       "      <td>URBAN MOBILITY</td>\n",
       "      <td>Roads Infrastructure Management</td>\n",
       "      <td>RIM Area Central</td>\n",
       "      <td>District: Blaauwberg</td>\n",
       "      <td>TD Customer complaint groups</td>\n",
       "      <td>Pothole&amp;Defect Road Foot Bic Way/Kerbs</td>\n",
       "      <td>Road (RCL)</td>\n",
       "      <td>Wear and tear</td>\n",
       "      <td>MONTAGUE GARDENS</td>\n",
       "      <td>-33.872839</td>\n",
       "      <td>18.522488</td>\n",
       "      <td>POINT (18.52249 -33.87284)</td>\n",
       "      <td>1047.0</td>\n",
       "      <td>88ad360225fffff</td>\n",
       "      <td>-33.871121</td>\n",
       "      <td>18.524125</td>\n",
       "    </tr>\n",
       "    <tr>\n",
       "      <th>1</th>\n",
       "      <td>400555043</td>\n",
       "      <td>9.108995e+09</td>\n",
       "      <td>2020-07-09 16:08:13+02:00</td>\n",
       "      <td>2020-07-14 14:27:01+02:00</td>\n",
       "      <td>URBAN MOBILITY</td>\n",
       "      <td>Roads Infrastructure Management</td>\n",
       "      <td>RIM Area East</td>\n",
       "      <td>District : Somerset West</td>\n",
       "      <td>TD Customer complaint groups</td>\n",
       "      <td>Manhole Cover/Gully Grid</td>\n",
       "      <td>Road (RCL)</td>\n",
       "      <td>Vandalism</td>\n",
       "      <td>SOMERSET WEST</td>\n",
       "      <td>-34.078916</td>\n",
       "      <td>18.848940</td>\n",
       "      <td>POINT (18.84894 -34.07892)</td>\n",
       "      <td>3055.0</td>\n",
       "      <td>88ad36d5e1fffff</td>\n",
       "      <td>-34.080426</td>\n",
       "      <td>18.851688</td>\n",
       "    </tr>\n",
       "    <tr>\n",
       "      <th>2</th>\n",
       "      <td>400589145</td>\n",
       "      <td>9.109614e+09</td>\n",
       "      <td>2020-10-27 10:21:59+02:00</td>\n",
       "      <td>2020-10-28 17:48:15+02:00</td>\n",
       "      <td>URBAN MOBILITY</td>\n",
       "      <td>Roads Infrastructure Management</td>\n",
       "      <td>RIM Area East</td>\n",
       "      <td>District : Somerset West</td>\n",
       "      <td>TD Customer complaint groups</td>\n",
       "      <td>Manhole Cover/Gully Grid</td>\n",
       "      <td>Road (RCL)</td>\n",
       "      <td>Vandalism</td>\n",
       "      <td>STRAND</td>\n",
       "      <td>-34.102242</td>\n",
       "      <td>18.821116</td>\n",
       "      <td>POINT (18.82112 -34.10224)</td>\n",
       "      <td>2946.0</td>\n",
       "      <td>88ad36d437fffff</td>\n",
       "      <td>-34.104934</td>\n",
       "      <td>18.820143</td>\n",
       "    </tr>\n",
       "    <tr>\n",
       "      <th>3</th>\n",
       "      <td>400538915</td>\n",
       "      <td>9.108601e+09</td>\n",
       "      <td>2020-03-19 06:36:06+02:00</td>\n",
       "      <td>2021-03-29 20:34:19+02:00</td>\n",
       "      <td>URBAN MOBILITY</td>\n",
       "      <td>Roads Infrastructure Management</td>\n",
       "      <td>RIM Area North</td>\n",
       "      <td>District : Bellville</td>\n",
       "      <td>TD Customer complaint groups</td>\n",
       "      <td>Paint Markings Lines&amp;Signs</td>\n",
       "      <td>Road Markings</td>\n",
       "      <td>Wear and tear</td>\n",
       "      <td>RAVENSMEAD</td>\n",
       "      <td>-33.920019</td>\n",
       "      <td>18.607209</td>\n",
       "      <td>POINT (18.60721 -33.92002)</td>\n",
       "      <td>1247.0</td>\n",
       "      <td>88ad361133fffff</td>\n",
       "      <td>-33.920536</td>\n",
       "      <td>18.607682</td>\n",
       "    </tr>\n",
       "    <tr>\n",
       "      <th>4</th>\n",
       "      <td>400568554</td>\n",
       "      <td>NaN</td>\n",
       "      <td>2020-08-25 09:48:42+02:00</td>\n",
       "      <td>2020-08-31 08:41:13+02:00</td>\n",
       "      <td>URBAN MOBILITY</td>\n",
       "      <td>Roads Infrastructure Management</td>\n",
       "      <td>RIM Area South</td>\n",
       "      <td>District : Athlone</td>\n",
       "      <td>TD Customer complaint groups</td>\n",
       "      <td>Pothole&amp;Defect Road Foot Bic Way/Kerbs</td>\n",
       "      <td>Road (RCL)</td>\n",
       "      <td>Surfacing failure</td>\n",
       "      <td>CLAREMONT</td>\n",
       "      <td>-33.987400</td>\n",
       "      <td>18.453760</td>\n",
       "      <td>POINT (18.45376 -33.9874)</td>\n",
       "      <td>2530.0</td>\n",
       "      <td>88ad361709fffff</td>\n",
       "      <td>-33.983538</td>\n",
       "      <td>18.451570</td>\n",
       "    </tr>\n",
       "  </tbody>\n",
       "</table>\n",
       "</div>"
      ]
     },
     "execution_count": 7,
     "metadata": {},
     "output_type": "execute_result"
    }
   ],
   "execution_count": 7
  },
  {
   "metadata": {},
   "cell_type": "code",
   "outputs": [],
   "execution_count": null,
   "source": "",
   "id": "205be8e6af31ed92"
  }
 ],
 "metadata": {
  "kernelspec": {
   "display_name": "Python 3",
   "language": "python",
   "name": "python3"
  },
  "language_info": {
   "codemirror_mode": {
    "name": "ipython",
    "version": 2
   },
   "file_extension": ".py",
   "mimetype": "text/x-python",
   "name": "python",
   "nbconvert_exporter": "python",
   "pygments_lexer": "ipython2",
   "version": "2.7.6"
  }
 },
 "nbformat": 4,
 "nbformat_minor": 5
}
