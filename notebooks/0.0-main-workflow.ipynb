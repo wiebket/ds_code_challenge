{
 "cells": [
  {
   "metadata": {},
   "cell_type": "markdown",
   "source": [
    "# Main Data Science Workflow\n",
    "\n",
    "This notebook demonstrates the complete pipeline from data loading to model evaluation.\n",
    "\n",
    "**Contents:**\n",
    "1. Setup and Configuration\n",
    "2. Data Loading from S3\n",
    "3. Data Transformation\n",
    "\n",
    "**Last Updated:** 2025-10-19\n",
    "**Author:** Wiebke Hutiri"
   ],
   "id": "885a16c2e83e1c7b"
  },
  {
   "metadata": {
    "ExecuteTime": {
     "end_time": "2025-10-20T00:00:34.591900Z",
     "start_time": "2025-10-20T00:00:34.478756Z"
    }
   },
   "cell_type": "code",
   "source": [
    "# Notebook Configuration\n",
    "\n",
    "%load_ext autoreload\n",
    "%autoreload 2\n",
    "\n",
    "import warnings\n",
    "warnings.filterwarnings('ignore')"
   ],
   "id": "e20b14d4aa4e3f7f",
   "outputs": [],
   "execution_count": 1
  },
  {
   "metadata": {},
   "cell_type": "markdown",
   "source": "## Setup and Configuration",
   "id": "238b8a406f5fe9fe"
  },
  {
   "cell_type": "code",
   "id": "initial_id",
   "metadata": {
    "collapsed": true,
    "ExecuteTime": {
     "end_time": "2025-10-20T00:00:38.115785Z",
     "start_time": "2025-10-20T00:00:37.432938Z"
    }
   },
   "source": [
    "from ds_code_challenge.data import (download_from_s3, load_data, spatial_join, validate_join,\n",
    "                                    requests_by_department_per_day, filter_date_range)\n",
    "from ds_code_challenge.config import Config\n",
    "\n",
    "Config.setup_directories()"
   ],
   "outputs": [
    {
     "name": "stdout",
     "output_type": "stream",
     "text": [
      "\u001B[32m2025-10-20 02:00:37.480\u001B[0m | \u001B[1mINFO    \u001B[0m | \u001B[36mds_code_challenge.config\u001B[0m:\u001B[36mConfig\u001B[0m:\u001B[36m26\u001B[0m - \u001B[1mPROJ_ROOT path is: /Users/wiebke/PycharmProjects/ds_code_challenge\u001B[0m\n"
     ]
    }
   ],
   "execution_count": 2
  },
  {
   "metadata": {},
   "cell_type": "markdown",
   "source": "## Data Loading from s3",
   "id": "3fa2ba0d5199ae40"
  },
  {
   "metadata": {},
   "cell_type": "code",
   "source": [
    "s3_dataset_keys = ['sr.csv.gz', 'sr_hex.csv.gz', 'sr_hex_truncated.csv', 'city-hex-polygons-8.geojson', 'city-hex-polygons-8-10.geojson', 'images/swimming-pool/yes', 'images/swimming-pool/no']\n",
    "\n",
    "for key in s3_dataset_keys:\n",
    "    download_from_s3(key, 'raw')"
   ],
   "id": "5ca5d56b4a304ed6",
   "outputs": [],
   "execution_count": null
  },
  {
   "metadata": {
    "ExecuteTime": {
     "end_time": "2025-10-20T00:00:45.699458Z",
     "start_time": "2025-10-20T00:00:41.833435Z"
    }
   },
   "cell_type": "code",
   "source": [
    "sr_df = load_data('sr.csv.gz')\n",
    "hex8_df = load_data('city-hex-polygons-8.geojson')\n",
    "sr_hex_trun_df = load_data('sr_hex_truncated.csv')\n",
    "sr_hex_val_df = load_data('sr_hex.csv.gz')"
   ],
   "id": "196abf5a091a5955",
   "outputs": [],
   "execution_count": 3
  },
  {
   "metadata": {},
   "cell_type": "markdown",
   "source": "## Data Transformation",
   "id": "f746890d47efbe27"
  },
  {
   "metadata": {
    "ExecuteTime": {
     "end_time": "2025-10-19T22:53:00.139147Z",
     "start_time": "2025-10-19T22:52:49.729109Z"
    }
   },
   "cell_type": "code",
   "source": "sr_hex_df = spatial_join(sr_df, hex8_df)",
   "id": "610e97bee7011e7",
   "outputs": [
    {
     "name": "stderr",
     "output_type": "stream",
     "text": [
      "INFO:ds_code_challenge.data.transform: Join completed in 0.55 seconds.\n",
      "WARNING:ds_code_challenge.data.transform: Failed to join 212367 out of 941634 rows (22.55%).\n"
     ]
    }
   ],
   "execution_count": 116
  },
  {
   "metadata": {
    "ExecuteTime": {
     "end_time": "2025-10-19T22:53:02.959355Z",
     "start_time": "2025-10-19T22:53:00.734966Z"
    }
   },
   "cell_type": "code",
   "source": "diff = validate_join(sr_hex_df, sr_hex_val_df)",
   "id": "611ca5f333ddcf49",
   "outputs": [
    {
     "name": "stdout",
     "output_type": "stream",
     "text": [
      "Found 29 differences:\n",
      "                     h3_level8_index                 \n",
      "                                self            other\n",
      "notification_number                                  \n",
      "1015706215           88ad360221fffff  88ad360227fffff\n",
      "1015706515           88ad360221fffff  88ad360227fffff\n",
      "1015720316           88ad36d5b1fffff  88ad36d5b5fffff\n",
      "1015732806           88ad360221fffff  88ad360227fffff\n",
      "1015760130           88ad360221fffff  88ad360227fffff\n",
      "1015802932           88ad360221fffff  88ad360227fffff\n",
      "1015818134           88ad360221fffff  88ad360227fffff\n",
      "1015819134           88ad36135bfffff  88ad361353fffff\n",
      "1015833016           88ad360221fffff  88ad360227fffff\n",
      "1015835341           88ad360221fffff  88ad360227fffff\n",
      "1015835955           88ad360221fffff  88ad360227fffff\n",
      "1015836310           88ad360221fffff  88ad360227fffff\n",
      "1015839765           88ad360221fffff  88ad360227fffff\n",
      "1015840714           88ad360221fffff  88ad360227fffff\n",
      "1015868773           88ad360221fffff  88ad360227fffff\n",
      "1015870909           88ad360221fffff  88ad360227fffff\n",
      "1015876501           88ad360221fffff  88ad360227fffff\n",
      "1015950287                         0  88ad36c629fffff\n",
      "1016000828           88ad36135bfffff  88ad361353fffff\n",
      "1016000846           88ad36135bfffff  88ad361353fffff\n",
      "1016000926           88ad36135bfffff  88ad361353fffff\n",
      "1016000973           88ad36135bfffff  88ad361353fffff\n",
      "1016006213           88ad360221fffff  88ad360227fffff\n",
      "1016271817           88ad360151fffff  88ad360157fffff\n",
      "1016348681                         0  88ad36c629fffff\n",
      "1016377419           88ad36135bfffff  88ad361353fffff\n",
      "1016378097           88ad36135bfffff  88ad361353fffff\n",
      "1016378485           88ad36135bfffff  88ad361353fffff\n",
      "1016488950                         0  88ad361b51fffff\n"
     ]
    }
   ],
   "execution_count": 118
  },
  {
   "metadata": {},
   "cell_type": "markdown",
   "source": [
    "## Anomaly Detection Challenge\n",
    "\n",
    "Reshape the sr_hex.csv data into the number of requests created per department, per day. Please identify any days in the first 6 months of 2020 where an anomalous number of requests were created for a particular department. Please describe how you would motivate to the director of that department why they should investigate that anomaly. Your argument should rely upon the contents of the dataset and/or your anomaly detection model."
   ],
   "id": "4da1aa8784c4ab58"
  },
  {
   "metadata": {
    "ExecuteTime": {
     "end_time": "2025-10-20T00:00:51.693483Z",
     "start_time": "2025-10-20T00:00:49.119373Z"
    }
   },
   "cell_type": "code",
   "source": [
    "agg_requests = requests_by_department_per_day(sr_hex_val_df)\n",
    "agg_requests.sort_values(by='request_count', ascending=False)"
   ],
   "id": "4363dd6716a0c1d4",
   "outputs": [
    {
     "name": "stderr",
     "output_type": "stream",
     "text": [
      "INFO:ds_code_challenge.data.transform:Aggregating 941634 service requests by department and day\n",
      "INFO:ds_code_challenge.data.transform:Aggregated to 5304 date-department combinations\n",
      "INFO:ds_code_challenge.data.transform:Date range: 2020-01-01 00:00:00 to 2020-12-31 00:00:00\n",
      "INFO:ds_code_challenge.data.transform:Departments: 20\n"
     ]
    },
    {
     "data": {
      "text/plain": [
       "           date                                        department  \\\n",
       "2729 2020-07-13           Electricity Generation and Distribution   \n",
       "2744 2020-07-14           Electricity Generation and Distribution   \n",
       "3937 2020-10-01           Electricity Generation and Distribution   \n",
       "2791 2020-07-17           Electricity Generation and Distribution   \n",
       "2759 2020-07-15           Electricity Generation and Distribution   \n",
       "...         ...                                               ...   \n",
       "4469 2020-11-05  Social Development & Early Childhood Development   \n",
       "2406 2020-06-20  Social Development & Early Childhood Development   \n",
       "1252 2020-03-26  Social Development & Early Childhood Development   \n",
       "1258 2020-03-27                                Customer Relations   \n",
       "0    2020-01-01                                       City Health   \n",
       "\n",
       "      request_count  \n",
       "2729           3156  \n",
       "2744           2015  \n",
       "3937           1844  \n",
       "2791           1792  \n",
       "2759           1715  \n",
       "...             ...  \n",
       "4469              1  \n",
       "2406              1  \n",
       "1252              1  \n",
       "1258              1  \n",
       "0                 1  \n",
       "\n",
       "[5304 rows x 3 columns]"
      ],
      "text/html": [
       "<div>\n",
       "<style scoped>\n",
       "    .dataframe tbody tr th:only-of-type {\n",
       "        vertical-align: middle;\n",
       "    }\n",
       "\n",
       "    .dataframe tbody tr th {\n",
       "        vertical-align: top;\n",
       "    }\n",
       "\n",
       "    .dataframe thead th {\n",
       "        text-align: right;\n",
       "    }\n",
       "</style>\n",
       "<table border=\"1\" class=\"dataframe\">\n",
       "  <thead>\n",
       "    <tr style=\"text-align: right;\">\n",
       "      <th></th>\n",
       "      <th>date</th>\n",
       "      <th>department</th>\n",
       "      <th>request_count</th>\n",
       "    </tr>\n",
       "  </thead>\n",
       "  <tbody>\n",
       "    <tr>\n",
       "      <th>2729</th>\n",
       "      <td>2020-07-13</td>\n",
       "      <td>Electricity Generation and Distribution</td>\n",
       "      <td>3156</td>\n",
       "    </tr>\n",
       "    <tr>\n",
       "      <th>2744</th>\n",
       "      <td>2020-07-14</td>\n",
       "      <td>Electricity Generation and Distribution</td>\n",
       "      <td>2015</td>\n",
       "    </tr>\n",
       "    <tr>\n",
       "      <th>3937</th>\n",
       "      <td>2020-10-01</td>\n",
       "      <td>Electricity Generation and Distribution</td>\n",
       "      <td>1844</td>\n",
       "    </tr>\n",
       "    <tr>\n",
       "      <th>2791</th>\n",
       "      <td>2020-07-17</td>\n",
       "      <td>Electricity Generation and Distribution</td>\n",
       "      <td>1792</td>\n",
       "    </tr>\n",
       "    <tr>\n",
       "      <th>2759</th>\n",
       "      <td>2020-07-15</td>\n",
       "      <td>Electricity Generation and Distribution</td>\n",
       "      <td>1715</td>\n",
       "    </tr>\n",
       "    <tr>\n",
       "      <th>...</th>\n",
       "      <td>...</td>\n",
       "      <td>...</td>\n",
       "      <td>...</td>\n",
       "    </tr>\n",
       "    <tr>\n",
       "      <th>4469</th>\n",
       "      <td>2020-11-05</td>\n",
       "      <td>Social Development &amp; Early Childhood Development</td>\n",
       "      <td>1</td>\n",
       "    </tr>\n",
       "    <tr>\n",
       "      <th>2406</th>\n",
       "      <td>2020-06-20</td>\n",
       "      <td>Social Development &amp; Early Childhood Development</td>\n",
       "      <td>1</td>\n",
       "    </tr>\n",
       "    <tr>\n",
       "      <th>1252</th>\n",
       "      <td>2020-03-26</td>\n",
       "      <td>Social Development &amp; Early Childhood Development</td>\n",
       "      <td>1</td>\n",
       "    </tr>\n",
       "    <tr>\n",
       "      <th>1258</th>\n",
       "      <td>2020-03-27</td>\n",
       "      <td>Customer Relations</td>\n",
       "      <td>1</td>\n",
       "    </tr>\n",
       "    <tr>\n",
       "      <th>0</th>\n",
       "      <td>2020-01-01</td>\n",
       "      <td>City Health</td>\n",
       "      <td>1</td>\n",
       "    </tr>\n",
       "  </tbody>\n",
       "</table>\n",
       "<p>5304 rows × 3 columns</p>\n",
       "</div>"
      ]
     },
     "execution_count": 4,
     "metadata": {},
     "output_type": "execute_result"
    }
   ],
   "execution_count": 4
  },
  {
   "metadata": {
    "ExecuteTime": {
     "end_time": "2025-10-20T00:01:09.469070Z",
     "start_time": "2025-10-20T00:01:09.219879Z"
    }
   },
   "cell_type": "code",
   "source": [
    "jan_to_june_2020 = filter_date_range(agg_requests, '2020-01-01', '2020-06-30')\n",
    "jan_to_june_2020.sort_values(by='request_count', ascending=False)"
   ],
   "id": "99afec033a366165",
   "outputs": [
    {
     "name": "stderr",
     "output_type": "stream",
     "text": [
      "INFO:ds_code_challenge.data.transform:Filtering to date range: 2020-01-01 to 2020-06-30\n",
      "INFO:ds_code_challenge.data.transform:Filtered to 2551 records\n"
     ]
    },
    {
     "data": {
      "text/plain": [
       "           date                               department  request_count\n",
       "271  2020-01-20  Electricity Generation and Distribution           1346\n",
       "2250 2020-06-10  Electricity Generation and Distribution           1330\n",
       "2265 2020-06-11  Electricity Generation and Distribution           1321\n",
       "2523 2020-06-29  Electricity Generation and Distribution           1260\n",
       "2498 2020-06-27  Electricity Generation and Distribution           1253\n",
       "...         ...                                      ...            ...\n",
       "1234 2020-03-25                 Operational Coordination              1\n",
       "1220 2020-03-24                 Operational Coordination              1\n",
       "1213 2020-03-23                               Valuations              1\n",
       "1197 2020-03-22                       Technical Services              1\n",
       "0    2020-01-01                              City Health              1\n",
       "\n",
       "[2551 rows x 3 columns]"
      ],
      "text/html": [
       "<div>\n",
       "<style scoped>\n",
       "    .dataframe tbody tr th:only-of-type {\n",
       "        vertical-align: middle;\n",
       "    }\n",
       "\n",
       "    .dataframe tbody tr th {\n",
       "        vertical-align: top;\n",
       "    }\n",
       "\n",
       "    .dataframe thead th {\n",
       "        text-align: right;\n",
       "    }\n",
       "</style>\n",
       "<table border=\"1\" class=\"dataframe\">\n",
       "  <thead>\n",
       "    <tr style=\"text-align: right;\">\n",
       "      <th></th>\n",
       "      <th>date</th>\n",
       "      <th>department</th>\n",
       "      <th>request_count</th>\n",
       "    </tr>\n",
       "  </thead>\n",
       "  <tbody>\n",
       "    <tr>\n",
       "      <th>271</th>\n",
       "      <td>2020-01-20</td>\n",
       "      <td>Electricity Generation and Distribution</td>\n",
       "      <td>1346</td>\n",
       "    </tr>\n",
       "    <tr>\n",
       "      <th>2250</th>\n",
       "      <td>2020-06-10</td>\n",
       "      <td>Electricity Generation and Distribution</td>\n",
       "      <td>1330</td>\n",
       "    </tr>\n",
       "    <tr>\n",
       "      <th>2265</th>\n",
       "      <td>2020-06-11</td>\n",
       "      <td>Electricity Generation and Distribution</td>\n",
       "      <td>1321</td>\n",
       "    </tr>\n",
       "    <tr>\n",
       "      <th>2523</th>\n",
       "      <td>2020-06-29</td>\n",
       "      <td>Electricity Generation and Distribution</td>\n",
       "      <td>1260</td>\n",
       "    </tr>\n",
       "    <tr>\n",
       "      <th>2498</th>\n",
       "      <td>2020-06-27</td>\n",
       "      <td>Electricity Generation and Distribution</td>\n",
       "      <td>1253</td>\n",
       "    </tr>\n",
       "    <tr>\n",
       "      <th>...</th>\n",
       "      <td>...</td>\n",
       "      <td>...</td>\n",
       "      <td>...</td>\n",
       "    </tr>\n",
       "    <tr>\n",
       "      <th>1234</th>\n",
       "      <td>2020-03-25</td>\n",
       "      <td>Operational Coordination</td>\n",
       "      <td>1</td>\n",
       "    </tr>\n",
       "    <tr>\n",
       "      <th>1220</th>\n",
       "      <td>2020-03-24</td>\n",
       "      <td>Operational Coordination</td>\n",
       "      <td>1</td>\n",
       "    </tr>\n",
       "    <tr>\n",
       "      <th>1213</th>\n",
       "      <td>2020-03-23</td>\n",
       "      <td>Valuations</td>\n",
       "      <td>1</td>\n",
       "    </tr>\n",
       "    <tr>\n",
       "      <th>1197</th>\n",
       "      <td>2020-03-22</td>\n",
       "      <td>Technical Services</td>\n",
       "      <td>1</td>\n",
       "    </tr>\n",
       "    <tr>\n",
       "      <th>0</th>\n",
       "      <td>2020-01-01</td>\n",
       "      <td>City Health</td>\n",
       "      <td>1</td>\n",
       "    </tr>\n",
       "  </tbody>\n",
       "</table>\n",
       "<p>2551 rows × 3 columns</p>\n",
       "</div>"
      ]
     },
     "execution_count": 5,
     "metadata": {},
     "output_type": "execute_result"
    }
   ],
   "execution_count": 5
  },
  {
   "metadata": {},
   "cell_type": "code",
   "outputs": [],
   "execution_count": null,
   "source": "|",
   "id": "6f44a46b91807c73"
  }
 ],
 "metadata": {
  "kernelspec": {
   "display_name": "Python 3",
   "language": "python",
   "name": "python3"
  },
  "language_info": {
   "codemirror_mode": {
    "name": "ipython",
    "version": 2
   },
   "file_extension": ".py",
   "mimetype": "text/x-python",
   "name": "python",
   "nbconvert_exporter": "python",
   "pygments_lexer": "ipython2",
   "version": "2.7.6"
  }
 },
 "nbformat": 4,
 "nbformat_minor": 5
}
