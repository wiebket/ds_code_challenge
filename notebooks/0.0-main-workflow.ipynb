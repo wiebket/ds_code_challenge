{
 "cells": [
  {
   "metadata": {},
   "cell_type": "markdown",
   "source": [
    "# Main Data Science Workflow\n",
    "\n",
    "This notebook demonstrates the complete pipeline from data loading to model evaluation.\n",
    "\n",
    "**Contents:**\n",
    "1. Setup and Configuration\n",
    "2. Data Loading from S3\n",
    "\n",
    "**Last Updated:** 2025-10-18\n",
    "**Author:** Wiebke Hutiri"
   ],
   "id": "885a16c2e83e1c7b"
  },
  {
   "metadata": {
    "ExecuteTime": {
     "end_time": "2025-10-19T12:16:09.283096Z",
     "start_time": "2025-10-19T12:16:09.199523Z"
    }
   },
   "cell_type": "code",
   "source": [
    "# Notebook Configuration\n",
    "\n",
    "%load_ext autoreload\n",
    "%autoreload 2\n",
    "\n",
    "import warnings\n",
    "warnings.filterwarnings('ignore')"
   ],
   "id": "e20b14d4aa4e3f7f",
   "outputs": [],
   "execution_count": 1
  },
  {
   "metadata": {},
   "cell_type": "markdown",
   "source": "## Setup and Configuration",
   "id": "238b8a406f5fe9fe"
  },
  {
   "cell_type": "code",
   "id": "initial_id",
   "metadata": {
    "collapsed": true,
    "ExecuteTime": {
     "end_time": "2025-10-19T12:28:09.589597Z",
     "start_time": "2025-10-19T12:28:09.198386Z"
    }
   },
   "source": [
    "from ds_code_challenge.data import download_from_s3, load_data\n",
    "from ds_code_challenge.config import Config\n",
    "\n",
    "Config.setup_directories()"
   ],
   "outputs": [],
   "execution_count": 18
  },
  {
   "metadata": {},
   "cell_type": "markdown",
   "source": "## Data Loading from s3",
   "id": "3fa2ba0d5199ae40"
  },
  {
   "metadata": {},
   "cell_type": "code",
   "source": [
    "s3_dataset_keys = ['sr.csv.gz', 'sr_hex.csv.gz', 'sr_hex_truncated.csv', 'city-hex-polygons-8.geojson', 'city-hex-polygons-8-10.geojson', 'images/swimming-pool/yes', 'images/swimming-pool/no']\n",
    "\n",
    "for key in s3_dataset_keys:\n",
    "    download_from_s3(key, 'raw')"
   ],
   "id": "5ca5d56b4a304ed6",
   "outputs": [],
   "execution_count": null
  },
  {
   "metadata": {
    "ExecuteTime": {
     "end_time": "2025-10-19T12:29:21.244524Z",
     "start_time": "2025-10-19T12:29:19.499311Z"
    }
   },
   "cell_type": "code",
   "source": [
    "sr_df = load_data('sr.csv.gz')\n",
    "hex8_df = load_data('city-hex-polygons-8.geojson')"
   ],
   "id": "196abf5a091a5955",
   "outputs": [],
   "execution_count": 21
  }
 ],
 "metadata": {
  "kernelspec": {
   "display_name": "Python 3",
   "language": "python",
   "name": "python3"
  },
  "language_info": {
   "codemirror_mode": {
    "name": "ipython",
    "version": 2
   },
   "file_extension": ".py",
   "mimetype": "text/x-python",
   "name": "python",
   "nbconvert_exporter": "python",
   "pygments_lexer": "ipython2",
   "version": "2.7.6"
  }
 },
 "nbformat": 4,
 "nbformat_minor": 5
}
