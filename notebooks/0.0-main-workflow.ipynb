{
 "cells": [
  {
   "metadata": {},
   "cell_type": "markdown",
   "source": [
    "# Main Data Science Workflow\n",
    "\n",
    "This notebook demonstrates the complete pipeline from data loading to model evaluation.\n",
    "\n",
    "**Contents:**\n",
    "1. Setup and Configuration\n",
    "2. Data Loading from S3\n",
    "3. Data Transformation\n",
    "\n",
    "**Last Updated:** 2025-10-19\n",
    "**Author:** Wiebke Hutiri"
   ],
   "id": "885a16c2e83e1c7b"
  },
  {
   "metadata": {
    "ExecuteTime": {
     "end_time": "2025-10-19T22:46:31.513230Z",
     "start_time": "2025-10-19T22:46:31.254767Z"
    }
   },
   "cell_type": "code",
   "source": [
    "# Notebook Configuration\n",
    "\n",
    "%load_ext autoreload\n",
    "%autoreload 2\n",
    "\n",
    "import warnings\n",
    "warnings.filterwarnings('ignore')"
   ],
   "id": "e20b14d4aa4e3f7f",
   "outputs": [
    {
     "name": "stdout",
     "output_type": "stream",
     "text": [
      "The autoreload extension is already loaded. To reload it, use:\n",
      "  %reload_ext autoreload\n"
     ]
    }
   ],
   "execution_count": 100
  },
  {
   "metadata": {},
   "cell_type": "markdown",
   "source": "## Setup and Configuration",
   "id": "238b8a406f5fe9fe"
  },
  {
   "cell_type": "code",
   "id": "initial_id",
   "metadata": {
    "collapsed": true,
    "ExecuteTime": {
     "end_time": "2025-10-19T22:52:44.032596Z",
     "start_time": "2025-10-19T22:52:43.788661Z"
    }
   },
   "source": [
    "from ds_code_challenge.data import download_from_s3, load_data, spatial_join, validate_join\n",
    "from ds_code_challenge.config import Config\n",
    "\n",
    "Config.setup_directories()"
   ],
   "outputs": [],
   "execution_count": 115
  },
  {
   "metadata": {},
   "cell_type": "markdown",
   "source": "## Data Loading from s3",
   "id": "3fa2ba0d5199ae40"
  },
  {
   "metadata": {},
   "cell_type": "code",
   "source": [
    "s3_dataset_keys = ['sr.csv.gz', 'sr_hex.csv.gz', 'sr_hex_truncated.csv', 'city-hex-polygons-8.geojson', 'city-hex-polygons-8-10.geojson', 'images/swimming-pool/yes', 'images/swimming-pool/no']\n",
    "\n",
    "for key in s3_dataset_keys:\n",
    "    download_from_s3(key, 'raw')"
   ],
   "id": "5ca5d56b4a304ed6",
   "outputs": [],
   "execution_count": null
  },
  {
   "metadata": {
    "ExecuteTime": {
     "end_time": "2025-10-19T22:46:41.674922Z",
     "start_time": "2025-10-19T22:46:35.703390Z"
    }
   },
   "cell_type": "code",
   "source": [
    "sr_df = load_data('sr.csv.gz')\n",
    "hex8_df = load_data('city-hex-polygons-8.geojson')\n",
    "sr_hex_trun_df = load_data('sr_hex_truncated.csv')\n",
    "sr_hex_val_df = load_data('sr_hex.csv.gz')"
   ],
   "id": "196abf5a091a5955",
   "outputs": [],
   "execution_count": 102
  },
  {
   "metadata": {},
   "cell_type": "markdown",
   "source": "## Data Transformation",
   "id": "f746890d47efbe27"
  },
  {
   "metadata": {
    "ExecuteTime": {
     "end_time": "2025-10-19T22:53:00.139147Z",
     "start_time": "2025-10-19T22:52:49.729109Z"
    }
   },
   "cell_type": "code",
   "source": "sr_hex_df = spatial_join(sr_df, hex8_df)",
   "id": "610e97bee7011e7",
   "outputs": [
    {
     "name": "stderr",
     "output_type": "stream",
     "text": [
      "INFO:ds_code_challenge.data.transform: Join completed in 0.55 seconds.\n",
      "WARNING:ds_code_challenge.data.transform: Failed to join 212367 out of 941634 rows (22.55%).\n"
     ]
    }
   ],
   "execution_count": 116
  },
  {
   "metadata": {
    "ExecuteTime": {
     "end_time": "2025-10-19T22:53:02.959355Z",
     "start_time": "2025-10-19T22:53:00.734966Z"
    }
   },
   "cell_type": "code",
   "source": "diff = validate_join(sr_hex_df, sr_hex_val_df)",
   "id": "611ca5f333ddcf49",
   "outputs": [
    {
     "name": "stdout",
     "output_type": "stream",
     "text": [
      "Found 29 differences:\n",
      "                     h3_level8_index                 \n",
      "                                self            other\n",
      "notification_number                                  \n",
      "1015706215           88ad360221fffff  88ad360227fffff\n",
      "1015706515           88ad360221fffff  88ad360227fffff\n",
      "1015720316           88ad36d5b1fffff  88ad36d5b5fffff\n",
      "1015732806           88ad360221fffff  88ad360227fffff\n",
      "1015760130           88ad360221fffff  88ad360227fffff\n",
      "1015802932           88ad360221fffff  88ad360227fffff\n",
      "1015818134           88ad360221fffff  88ad360227fffff\n",
      "1015819134           88ad36135bfffff  88ad361353fffff\n",
      "1015833016           88ad360221fffff  88ad360227fffff\n",
      "1015835341           88ad360221fffff  88ad360227fffff\n",
      "1015835955           88ad360221fffff  88ad360227fffff\n",
      "1015836310           88ad360221fffff  88ad360227fffff\n",
      "1015839765           88ad360221fffff  88ad360227fffff\n",
      "1015840714           88ad360221fffff  88ad360227fffff\n",
      "1015868773           88ad360221fffff  88ad360227fffff\n",
      "1015870909           88ad360221fffff  88ad360227fffff\n",
      "1015876501           88ad360221fffff  88ad360227fffff\n",
      "1015950287                         0  88ad36c629fffff\n",
      "1016000828           88ad36135bfffff  88ad361353fffff\n",
      "1016000846           88ad36135bfffff  88ad361353fffff\n",
      "1016000926           88ad36135bfffff  88ad361353fffff\n",
      "1016000973           88ad36135bfffff  88ad361353fffff\n",
      "1016006213           88ad360221fffff  88ad360227fffff\n",
      "1016271817           88ad360151fffff  88ad360157fffff\n",
      "1016348681                         0  88ad36c629fffff\n",
      "1016377419           88ad36135bfffff  88ad361353fffff\n",
      "1016378097           88ad36135bfffff  88ad361353fffff\n",
      "1016378485           88ad36135bfffff  88ad361353fffff\n",
      "1016488950                         0  88ad361b51fffff\n"
     ]
    }
   ],
   "execution_count": 118
  },
  {
   "metadata": {},
   "cell_type": "code",
   "outputs": [],
   "execution_count": null,
   "source": "",
   "id": "bb69bfd34df39e25"
  }
 ],
 "metadata": {
  "kernelspec": {
   "display_name": "Python 3",
   "language": "python",
   "name": "python3"
  },
  "language_info": {
   "codemirror_mode": {
    "name": "ipython",
    "version": 2
   },
   "file_extension": ".py",
   "mimetype": "text/x-python",
   "name": "python",
   "nbconvert_exporter": "python",
   "pygments_lexer": "ipython2",
   "version": "2.7.6"
  }
 },
 "nbformat": 4,
 "nbformat_minor": 5
}
